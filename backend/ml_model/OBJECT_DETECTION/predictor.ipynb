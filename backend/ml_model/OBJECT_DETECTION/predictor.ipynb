{
 "cells": [
  {
   "cell_type": "markdown",
   "metadata": {},
   "source": [
    "# MODEL PREDICTOR"
   ]
  },
  {
   "cell_type": "markdown",
   "metadata": {},
   "source": [
    "### RANDOMLY PREDICT AN IMAGE"
   ]
  },
  {
   "cell_type": "code",
   "execution_count": 68,
   "metadata": {},
   "outputs": [
    {
     "name": "stdout",
     "output_type": "stream",
     "text": [
      "WARNING ⚠️ 'line_thickness' is deprecated and will be removed in 'ultralytics 8.299999999999999' in the future. Please use 'line_width' instead.\n",
      "\n",
      "image 1/1 /Users/alexcalaunanjr/Desktop/SCHOOL STUFF/Y3S3/CSIT321/MODEL/Consumer-to-shop/ONLINE_SAMPLES/weiss_natalia_bneck_fit_and_fl_1709953289_45616dc2_progressive.jpeg: 640x480 1 Dress, 476.5ms\n",
      "Speed: 2.6ms preprocess, 476.5ms inference, 0.7ms postprocess per image at shape (1, 3, 640, 480)\n"
     ]
    }
   ],
   "source": []
  },
  {
   "cell_type": "code",
   "execution_count": 1,
   "metadata": {},
   "outputs": [
    {
     "name": "stdout",
     "output_type": "stream",
     "text": [
      "\u001b[33mDEPRECATION: Loading egg at /Users/alexcalaunanjr/miniconda3/envs/topCare/lib/python3.11/site-packages/lazy_loader-0.4-py3.11.egg is deprecated. pip 24.3 will enforce this behaviour change. A possible replacement is to use pip for package installation.. Discussion can be found at https://github.com/pypa/pip/issues/12330\u001b[0m\u001b[33m\n",
      "\u001b[0m\u001b[33mDEPRECATION: Loading egg at /Users/alexcalaunanjr/miniconda3/envs/topCare/lib/python3.11/site-packages/scikit_image-0.23.2rc1-py3.11-macosx-11.1-arm64.egg is deprecated. pip 24.3 will enforce this behaviour change. A possible replacement is to use pip for package installation.. Discussion can be found at https://github.com/pypa/pip/issues/12330\u001b[0m\u001b[33m\n",
      "\u001b[0m\u001b[33mDEPRECATION: Loading egg at /Users/alexcalaunanjr/miniconda3/envs/topCare/lib/python3.11/site-packages/tifffile-2024.2.12-py3.11.egg is deprecated. pip 24.3 will enforce this behaviour change. A possible replacement is to use pip for package installation.. Discussion can be found at https://github.com/pypa/pip/issues/12330\u001b[0m\u001b[33m\n",
      "\u001b[0m\u001b[33mDEPRECATION: Loading egg at /Users/alexcalaunanjr/miniconda3/envs/topCare/lib/python3.11/site-packages/imageio-2.34.0-py3.11.egg is deprecated. pip 24.3 will enforce this behaviour change. A possible replacement is to use pip for package installation.. Discussion can be found at https://github.com/pypa/pip/issues/12330\u001b[0m\u001b[33m\n",
      "\u001b[0mRequirement already satisfied: ultralytics in /Users/alexcalaunanjr/miniconda3/envs/topCare/lib/python3.11/site-packages (8.2.14)\n",
      "Requirement already satisfied: matplotlib>=3.3.0 in /Users/alexcalaunanjr/miniconda3/envs/topCare/lib/python3.11/site-packages (from ultralytics) (3.8.3)\n",
      "Requirement already satisfied: opencv-python>=4.6.0 in /Users/alexcalaunanjr/miniconda3/envs/topCare/lib/python3.11/site-packages (from ultralytics) (4.9.0.80)\n",
      "Requirement already satisfied: pillow>=7.1.2 in /Users/alexcalaunanjr/miniconda3/envs/topCare/lib/python3.11/site-packages (from ultralytics) (10.3.0)\n",
      "Requirement already satisfied: pyyaml>=5.3.1 in /Users/alexcalaunanjr/miniconda3/envs/topCare/lib/python3.11/site-packages (from ultralytics) (6.0.1)\n",
      "Requirement already satisfied: requests>=2.23.0 in /Users/alexcalaunanjr/miniconda3/envs/topCare/lib/python3.11/site-packages (from ultralytics) (2.28.2)\n",
      "Requirement already satisfied: scipy>=1.4.1 in /Users/alexcalaunanjr/miniconda3/envs/topCare/lib/python3.11/site-packages (from ultralytics) (1.12.0)\n",
      "Requirement already satisfied: torch>=1.8.0 in /Users/alexcalaunanjr/miniconda3/envs/topCare/lib/python3.11/site-packages (from ultralytics) (2.2.1)\n",
      "Requirement already satisfied: torchvision>=0.9.0 in /Users/alexcalaunanjr/miniconda3/envs/topCare/lib/python3.11/site-packages (from ultralytics) (0.17.1)\n",
      "Requirement already satisfied: tqdm>=4.64.0 in /Users/alexcalaunanjr/miniconda3/envs/topCare/lib/python3.11/site-packages (from ultralytics) (4.65.2)\n",
      "Requirement already satisfied: psutil in /Users/alexcalaunanjr/miniconda3/envs/topCare/lib/python3.11/site-packages (from ultralytics) (5.9.0)\n",
      "Requirement already satisfied: py-cpuinfo in /Users/alexcalaunanjr/miniconda3/envs/topCare/lib/python3.11/site-packages (from ultralytics) (9.0.0)\n",
      "Requirement already satisfied: thop>=0.1.1 in /Users/alexcalaunanjr/miniconda3/envs/topCare/lib/python3.11/site-packages (from ultralytics) (0.1.1.post2209072238)\n",
      "Requirement already satisfied: pandas>=1.1.4 in /Users/alexcalaunanjr/miniconda3/envs/topCare/lib/python3.11/site-packages (from ultralytics) (2.2.1)\n",
      "Requirement already satisfied: seaborn>=0.11.0 in /Users/alexcalaunanjr/miniconda3/envs/topCare/lib/python3.11/site-packages (from ultralytics) (0.13.2)\n",
      "Requirement already satisfied: contourpy>=1.0.1 in /Users/alexcalaunanjr/miniconda3/envs/topCare/lib/python3.11/site-packages (from matplotlib>=3.3.0->ultralytics) (1.2.0)\n",
      "Requirement already satisfied: cycler>=0.10 in /Users/alexcalaunanjr/miniconda3/envs/topCare/lib/python3.11/site-packages (from matplotlib>=3.3.0->ultralytics) (0.12.1)\n",
      "Requirement already satisfied: fonttools>=4.22.0 in /Users/alexcalaunanjr/miniconda3/envs/topCare/lib/python3.11/site-packages (from matplotlib>=3.3.0->ultralytics) (4.49.0)\n",
      "Requirement already satisfied: kiwisolver>=1.3.1 in /Users/alexcalaunanjr/miniconda3/envs/topCare/lib/python3.11/site-packages (from matplotlib>=3.3.0->ultralytics) (1.4.5)\n",
      "Requirement already satisfied: numpy<2,>=1.21 in /Users/alexcalaunanjr/miniconda3/envs/topCare/lib/python3.11/site-packages (from matplotlib>=3.3.0->ultralytics) (1.26.4)\n",
      "Requirement already satisfied: packaging>=20.0 in /Users/alexcalaunanjr/miniconda3/envs/topCare/lib/python3.11/site-packages (from matplotlib>=3.3.0->ultralytics) (24.0)\n",
      "Requirement already satisfied: pyparsing>=2.3.1 in /Users/alexcalaunanjr/miniconda3/envs/topCare/lib/python3.11/site-packages (from matplotlib>=3.3.0->ultralytics) (3.1.2)\n",
      "Requirement already satisfied: python-dateutil>=2.7 in /Users/alexcalaunanjr/miniconda3/envs/topCare/lib/python3.11/site-packages (from matplotlib>=3.3.0->ultralytics) (2.9.0)\n",
      "Requirement already satisfied: pytz>=2020.1 in /Users/alexcalaunanjr/miniconda3/envs/topCare/lib/python3.11/site-packages (from pandas>=1.1.4->ultralytics) (2023.4)\n",
      "Requirement already satisfied: tzdata>=2022.7 in /Users/alexcalaunanjr/miniconda3/envs/topCare/lib/python3.11/site-packages (from pandas>=1.1.4->ultralytics) (2024.1)\n",
      "Requirement already satisfied: charset-normalizer<4,>=2 in /Users/alexcalaunanjr/miniconda3/envs/topCare/lib/python3.11/site-packages (from requests>=2.23.0->ultralytics) (3.3.2)\n",
      "Requirement already satisfied: idna<4,>=2.5 in /Users/alexcalaunanjr/miniconda3/envs/topCare/lib/python3.11/site-packages (from requests>=2.23.0->ultralytics) (3.7)\n",
      "Requirement already satisfied: urllib3<1.27,>=1.21.1 in /Users/alexcalaunanjr/miniconda3/envs/topCare/lib/python3.11/site-packages (from requests>=2.23.0->ultralytics) (1.26.18)\n",
      "Requirement already satisfied: certifi>=2017.4.17 in /Users/alexcalaunanjr/miniconda3/envs/topCare/lib/python3.11/site-packages (from requests>=2.23.0->ultralytics) (2024.2.2)\n",
      "Requirement already satisfied: filelock in /Users/alexcalaunanjr/miniconda3/envs/topCare/lib/python3.11/site-packages (from torch>=1.8.0->ultralytics) (3.13.1)\n",
      "Requirement already satisfied: typing-extensions>=4.8.0 in /Users/alexcalaunanjr/miniconda3/envs/topCare/lib/python3.11/site-packages (from torch>=1.8.0->ultralytics) (4.11.0)\n",
      "Requirement already satisfied: sympy in /Users/alexcalaunanjr/miniconda3/envs/topCare/lib/python3.11/site-packages (from torch>=1.8.0->ultralytics) (1.12)\n",
      "Requirement already satisfied: networkx in /Users/alexcalaunanjr/miniconda3/envs/topCare/lib/python3.11/site-packages (from torch>=1.8.0->ultralytics) (3.2.1)\n",
      "Requirement already satisfied: jinja2 in /Users/alexcalaunanjr/miniconda3/envs/topCare/lib/python3.11/site-packages (from torch>=1.8.0->ultralytics) (3.1.3)\n",
      "Requirement already satisfied: fsspec in /Users/alexcalaunanjr/miniconda3/envs/topCare/lib/python3.11/site-packages (from torch>=1.8.0->ultralytics) (2024.2.0)\n",
      "Requirement already satisfied: six>=1.5 in /Users/alexcalaunanjr/miniconda3/envs/topCare/lib/python3.11/site-packages (from python-dateutil>=2.7->matplotlib>=3.3.0->ultralytics) (1.16.0)\n",
      "Requirement already satisfied: MarkupSafe>=2.0 in /Users/alexcalaunanjr/miniconda3/envs/topCare/lib/python3.11/site-packages (from jinja2->torch>=1.8.0->ultralytics) (2.1.5)\n",
      "Requirement already satisfied: mpmath>=0.19 in /Users/alexcalaunanjr/miniconda3/envs/topCare/lib/python3.11/site-packages (from sympy->torch>=1.8.0->ultralytics) (1.3.0)\n"
     ]
    }
   ],
   "source": [
    "!pip install ultralytics"
   ]
  },
  {
   "cell_type": "code",
   "execution_count": 1,
   "metadata": {},
   "outputs": [
    {
     "name": "stdout",
     "output_type": "stream",
     "text": [
      "Using torch 2.2.1 (CPU)\n"
     ]
    },
    {
     "ename": "",
     "evalue": "",
     "output_type": "error",
     "traceback": [
      "\u001b[1;31mThe Kernel crashed while executing code in the current cell or a previous cell. \n",
      "\u001b[1;31mPlease review the code in the cell(s) to identify a possible cause of the failure. \n",
      "\u001b[1;31mClick <a href='https://aka.ms/vscodeJupyterKernelCrash'>here</a> for more info. \n",
      "\u001b[1;31mView Jupyter <a href='command:jupyter.viewOutput'>log</a> for further details."
     ]
    }
   ],
   "source": [
    "%matplotlib inline\n",
    "\n",
    "import numpy as np\n",
    "import matplotlib.pyplot as plt\n",
    "import random\n",
    "import os\n",
    "import cv2\n",
    "import shutil\n",
    "import tqdm\n",
    "import glob\n",
    "\n",
    "\n",
    "# Check GPU is working or not\n",
    "import torch\n",
    "print(f\"Using torch {torch.__version__} ({torch.cuda.get_device_properties(0).name if torch.cuda.is_available() else 'CPU'})\")\n",
    "\n",
    "# use best.pt to get best results\n",
    "from ultralytics import YOLO\n",
    "my_model = YOLO(\"best.pt\")\n"
   ]
  },
  {
   "cell_type": "markdown",
   "metadata": {},
   "source": [
    "### SPECIFY IMAGE TO PREDICT"
   ]
  },
  {
   "cell_type": "code",
   "execution_count": null,
   "metadata": {},
   "outputs": [
    {
     "ename": "",
     "evalue": "",
     "output_type": "error",
     "traceback": [
      "\u001b[1;31mThe Kernel crashed while executing code in the current cell or a previous cell. \n",
      "\u001b[1;31mPlease review the code in the cell(s) to identify a possible cause of the failure. \n",
      "\u001b[1;31mClick <a href='https://aka.ms/vscodeJupyterKernelCrash'>here</a> for more info. \n",
      "\u001b[1;31mView Jupyter <a href='command:jupyter.viewOutput'>log</a> for further details."
     ]
    }
   ],
   "source": [
    "from ultralytics import YOLO\n",
    "import matplotlib.pyplot as plt\n",
    "import random\n",
    "import os\n",
    "\n",
    "# Path to the directory containing the images\n",
    "# images_path = 'ONLINE_SAMPLES/'\n",
    "\n",
    "# use best.pt to get best results\n",
    "model = YOLO(\"./best.pt\")\n",
    "\n",
    "# SPECIFY AN IMAGE TO PREDICT\n",
    "path = './ONLINE_SAMPLES/y2k_vintage_orange_paisley_pat_1709996181_e226c355_progressive.jpeg'\n",
    "\n",
    "current_path = os.path.join(os.getcwd(), path)\n",
    "# predict the objects in the image\n",
    "results=model.predict(path, conf=0.4, save=False, line_thickness=2)\n",
    "\n",
    "# Extract the Results object from the list\n",
    "results = results[0]\n",
    "\n",
    "# Instantiate a list of dictionaries to store the detected objects\n",
    "detected_objects = []\n",
    "\n",
    "# Print the detected labels and confidence scores\n",
    "for label_idx, label_name in results.names.items():\n",
    "    # Check if the label index corresponds to a detected object\n",
    "    if label_idx in results.boxes.cls:\n",
    "        # Get the confidence score for the detected object, then store each label and confidence score in a dictionary\n",
    "        confidence_score = results.boxes.conf[results.boxes.cls == label_idx][0]\n",
    "\n",
    "        # # categorise the labels by top, bottom, footwear and accessories\n",
    "        # if label_name in [\"jacket\", \"shirt\", \"dress\"]:\n",
    "        #     label_name = \"top\"\n",
    "        # elif label_name in [\"pants\", \"shorts\", \"skirt\"]:\n",
    "        #     label_name = \"bottom\"\n",
    "        # elif label_name in [\"shoe\"]:\n",
    "        #     label_name = \"footwear\"\n",
    "        # else:\n",
    "        #     label_name = \"accessories\"\n",
    "\n",
    "        # print(f\"Detected: {label_name} (Confidence: {confidence_score:.2f})\")\n",
    "\n",
    "        # store the detected object in a dictionary\n",
    "        # if label exists already, check if the confidence score is higher than the previous one\n",
    "        for obj in detected_objects:\n",
    "            if obj[\"label\"] == label_name:\n",
    "                if obj[\"confidence\"] < confidence_score:\n",
    "                    obj[\"confidence\"] = confidence_score\n",
    "                    break\n",
    "        else:\n",
    "            # # if confidence score is < 0.6, ignore the object\n",
    "            # if confidence_score < 0.6:\n",
    "            #     continue\n",
    "            # else:\n",
    "            detected_objects.append({\"label\": label_name, \"confidence\": confidence_score})\n",
    "\n",
    "# Sort the detected objects by confidence score\n",
    "detected_objects = sorted(detected_objects, key=lambda k: k['confidence'], reverse=True)\n",
    "# print each detected object\n",
    "for obj in detected_objects:\n",
    "    print(f\"Detected: {obj['label']} (Confidence: {obj['confidence']:.2f})\")\n",
    "\n",
    "\n",
    "\n",
    "# show the image and the detected objects\n",
    "results.show()\n"
   ]
  },
  {
   "cell_type": "code",
   "execution_count": null,
   "metadata": {},
   "outputs": [],
   "source": [
    "from ultralytics import YOLO\n",
    "import matplotlib.pyplot as plt\n",
    "import random\n",
    "import os\n",
    "\n",
    "def predict(image):\n",
    "    # use best.pt to get best results\n",
    "    model = YOLO(\"./best.pt\")\n",
    "\n",
    "    # predict the objects in the image\n",
    "    results=model.predict(image, conf=0.4, save=False, line_thickness=2)\n",
    "\n",
    "    # Extract the Results object from the list\n",
    "    results = results[0]\n",
    "\n",
    "    # Instantiate a list of dictionaries to store the detected objects\n",
    "    detected_objects = []\n",
    "\n",
    "    # Print the detected labels and confidence scores\n",
    "    for label_idx, label_name in results.names.items():\n",
    "        # Check if the label index corresponds to a detected object\n",
    "        if label_idx in results.boxes.cls:\n",
    "            # Get the confidence score for the detected object, then store each label and confidence score in a dictionary\n",
    "            confidence_score = results.boxes.conf[results.boxes.cls == label_idx][0]\n",
    "\n",
    "            # store the detected object in a dictionary\n",
    "            # if label exists already, check if the confidence score is higher than the previous one\n",
    "            for obj in detected_objects:\n",
    "                if obj[\"label\"] == label_name:\n",
    "                    if obj[\"confidence\"] < confidence_score:\n",
    "                        obj[\"confidence\"] = confidence_score\n",
    "                        break\n",
    "            else:\n",
    "                # # if confidence score is < 0.6, ignore the object\n",
    "                if confidence_score < 0.6:\n",
    "                    continue\n",
    "                else:\n",
    "                    detected_objects.append({\"label\": label_name, \"confidence\": confidence_score})\n",
    "\n",
    "    # Sort the detected objects by confidence score\n",
    "    detected_objects = sorted(detected_objects, key=lambda k: k['confidence'], reverse=True)\n",
    "    # print each detected object\n",
    "    for obj in detected_objects:\n",
    "        print(f\"Detected: {obj['label']} (Confidence: {obj['confidence']:.2f})\")\n",
    "\n",
    "\n",
    "    # covert the detected objects to a json object\n",
    "    detected_objects_json = {\"detected_objects\": detected_objects}\n",
    "    return detected_objects_json\n",
    "\n",
    "\n",
    "print(predict(\"ONLINE_SAMPLES/y2k_vintage_orange_paisley_pat_1709996181_e226c355_progressive.jpeg\"))"
   ]
  }
 ],
 "metadata": {
  "kernelspec": {
   "display_name": "topCare",
   "language": "python",
   "name": "python3"
  },
  "language_info": {
   "codemirror_mode": {
    "name": "ipython",
    "version": 3
   },
   "file_extension": ".py",
   "mimetype": "text/x-python",
   "name": "python",
   "nbconvert_exporter": "python",
   "pygments_lexer": "ipython3",
   "version": "3.11.8"
  }
 },
 "nbformat": 4,
 "nbformat_minor": 2
}
